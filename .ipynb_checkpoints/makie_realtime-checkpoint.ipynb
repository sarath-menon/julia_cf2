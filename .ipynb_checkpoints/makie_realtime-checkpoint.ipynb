{
 "cells": [
  {
   "cell_type": "code",
   "execution_count": 1,
   "id": "885fc22a-e3ad-4b24-9b51-656816f4df91",
   "metadata": {},
   "outputs": [
    {
     "name": "stderr",
     "output_type": "stream",
     "text": [
      "\u001b[32m\u001b[1m  Activating\u001b[22m\u001b[39m project at `~/Documents/eth_projects/freertos_sim/test/julia_cf2`\n"
     ]
    }
   ],
   "source": [
    "import Pkg;Pkg.activate(@__DIR__);Pkg.instantiate();"
   ]
  },
  {
   "cell_type": "code",
   "execution_count": 4,
   "id": "a2a62ca6-3065-4ac4-bb04-3b8e6dcf9998",
   "metadata": {},
   "outputs": [],
   "source": [
    "using GLMakie\n",
    "GLMakie.activate!(inline=false)"
   ]
  },
  {
   "cell_type": "code",
   "execution_count": 10,
   "id": "7de48cd4-965a-491d-b26b-7706ac4cfde2",
   "metadata": {},
   "outputs": [
    {
     "data": {
      "text/plain": [
       "GLMakie.Screen(...)"
      ]
     },
     "execution_count": 10,
     "metadata": {},
     "output_type": "execute_result"
    }
   ],
   "source": [
    "points = Observable(Point2f[randn(2)])\n",
    "\n",
    "fig, ax = scatter(points)\n",
    "limits!(ax, -4, 4, -4, 4)\n",
    "\n",
    "fps = 60\n",
    "nframes = 1200\n",
    "\n",
    "for i = 1:nframes\n",
    "    new_point = Point2f(randn(2))\n",
    "    points[] = push!(points[], new_point)\n",
    "    sleep(1/fps) # refreshes the display!\n",
    "end\n",
    "display(fig)"
   ]
  },
  {
   "cell_type": "code",
   "execution_count": null,
   "id": "d1b8da33-728b-4f97-9222-bf24f8550405",
   "metadata": {},
   "outputs": [],
   "source": []
  }
 ],
 "metadata": {
  "kernelspec": {
   "display_name": "Julia-sys-plots 1.8.5",
   "language": "julia",
   "name": "julia-sys-plots-1.8"
  },
  "language_info": {
   "file_extension": ".jl",
   "mimetype": "application/julia",
   "name": "julia",
   "version": "1.8.5"
  }
 },
 "nbformat": 4,
 "nbformat_minor": 5
}
