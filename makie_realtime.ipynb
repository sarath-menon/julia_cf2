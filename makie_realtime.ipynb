{
 "cells": [
  {
   "cell_type": "code",
   "execution_count": 1,
   "id": "885fc22a-e3ad-4b24-9b51-656816f4df91",
   "metadata": {},
   "outputs": [
    {
     "name": "stderr",
     "output_type": "stream",
     "text": [
      "\u001b[32m\u001b[1m  Activating\u001b[22m\u001b[39m project at `~/Documents/eth_projects/freertos_sim/test/julia_cf2`\n"
     ]
    }
   ],
   "source": [
    "import Pkg;Pkg.activate(@__DIR__);Pkg.instantiate();"
   ]
  },
  {
   "cell_type": "code",
   "execution_count": 2,
   "id": "a2a62ca6-3065-4ac4-bb04-3b8e6dcf9998",
   "metadata": {},
   "outputs": [],
   "source": [
    "using GLMakie\n",
    "using PyCall\n",
    "GLMakie.activate!(inline=false)"
   ]
  },
  {
   "cell_type": "code",
   "execution_count": 11,
   "id": "7de48cd4-965a-491d-b26b-7706ac4cfde2",
   "metadata": {},
   "outputs": [
    {
     "data": {
      "text/plain": [
       "GLMakie.Screen(...)"
      ]
     },
     "execution_count": 11,
     "metadata": {},
     "output_type": "execute_result"
    }
   ],
   "source": [
    "points = Observable(Point2f[randn(2)])\n",
    "\n",
    "fig, ax = scatter(points)\n",
    "limits!(ax, -4, 4, -4, 4)\n",
    "\n",
    "fps = 60\n",
    "nframes = 1200\n",
    "\n",
    "for i = 1:nframes\n",
    "    new_point = Point2f(randn(2))\n",
    "    points[] = push!(points[], new_point)\n",
    "    sleep(1/fps) # refreshes the display!\n",
    "end\n",
    "display(fig)"
   ]
  },
  {
   "cell_type": "markdown",
   "id": "6b5c31a6",
   "metadata": {},
   "source": [
    "# CHannel demo"
   ]
  },
  {
   "cell_type": "code",
   "execution_count": 3,
   "id": "42a14463",
   "metadata": {},
   "outputs": [],
   "source": [
    "function producer(a)\n",
    "    Channel() do ch\n",
    "        put!(ch, \"start\")\n",
    "        for n=1:4\n",
    "            put!(ch, 2n)\n",
    "        end\n",
    "        put!(ch, \"stop\")\n",
    "    end\n",
    "end;"
   ]
  },
  {
   "cell_type": "code",
   "execution_count": 4,
   "id": "81e62c2e",
   "metadata": {},
   "outputs": [
    {
     "data": {
      "text/plain": [
       "Channel{Any}(0) (1 item available)"
      ]
     },
     "execution_count": 4,
     "metadata": {},
     "output_type": "execute_result"
    }
   ],
   "source": [
    "channel_countdown = producer(2)"
   ]
  },
  {
   "cell_type": "code",
   "execution_count": 5,
   "id": "c7dd0c66",
   "metadata": {},
   "outputs": [
    {
     "name": "stdout",
     "output_type": "stream",
     "text": [
      "countdown start\n",
      "countdown 2\n",
      "countdown 4\n",
      "countdown 6\n",
      "countdown 8\n",
      "countdown stop\n"
     ]
    }
   ],
   "source": [
    "for i in channel_countdown\n",
    "    println(\"countdown $i\")\n",
    "end"
   ]
  },
  {
   "cell_type": "code",
   "execution_count": 6,
   "id": "1b622510",
   "metadata": {},
   "outputs": [],
   "source": [
    "function producer(c::Channel)\n",
    "\n",
    "    put!(c, \"start\")\n",
    "    for n=1:5\n",
    "        put!(c, 2n)\n",
    "    end\n",
    "    put!(c, \"stop\")\n",
    "end;\n",
    "\n",
    "chnl = Channel(producer);"
   ]
  },
  {
   "cell_type": "code",
   "execution_count": null,
   "id": "a00bdb60",
   "metadata": {},
   "outputs": [],
   "source": [
    "# put!(chnl, \"selva\")"
   ]
  },
  {
   "cell_type": "code",
   "execution_count": 7,
   "id": "9a87865f",
   "metadata": {},
   "outputs": [
    {
     "name": "stdout",
     "output_type": "stream",
     "text": [
      "start\n",
      "2\n",
      "4\n",
      "6\n",
      "8\n"
     ]
    }
   ],
   "source": [
    "for n=1:5\n",
    "    println(take!(chnl))\n",
    "end"
   ]
  },
  {
   "cell_type": "markdown",
   "id": "82ddf2ad",
   "metadata": {},
   "source": [
    "## new demo"
   ]
  },
  {
   "cell_type": "code",
   "execution_count": 6,
   "id": "f22c40c2",
   "metadata": {},
   "outputs": [],
   "source": [
    "# Given Channels c1 and c2,\n",
    "c1 = Channel(32)\n",
    "c2 = Channel(32)\n",
    "\n",
    "# add data to c1\n",
    "for i in 1:3\n",
    "    put!(c1, i)\n",
    "end"
   ]
  },
  {
   "cell_type": "code",
   "execution_count": 8,
   "id": "ab4d6103",
   "metadata": {},
   "outputs": [
    {
     "data": {
      "text/plain": [
       "foo (generic function with 1 method)"
      ]
     },
     "execution_count": 8,
     "metadata": {},
     "output_type": "execute_result"
    }
   ],
   "source": [
    "# and a function `foo` which reads items from c1, processes the item read\n",
    "# and writes a result to c2,\n",
    "function foo()\n",
    "    for i in 1:3\n",
    "        data = take!(c1)\n",
    "        result = data*2               # process data\n",
    "        put!(c2, result)    # write out result\n",
    "    end\n",
    "end"
   ]
  },
  {
   "cell_type": "code",
   "execution_count": 10,
   "id": "b83079ca",
   "metadata": {},
   "outputs": [
    {
     "data": {
      "text/plain": [
       "Channel{Any}(32) (3 items available)"
      ]
     },
     "execution_count": 10,
     "metadata": {},
     "output_type": "execute_result"
    }
   ],
   "source": [
    "c2"
   ]
  },
  {
   "cell_type": "code",
   "execution_count": null,
   "id": "78c03a3c",
   "metadata": {},
   "outputs": [],
   "source": []
  }
 ],
 "metadata": {
  "kernelspec": {
   "display_name": "Julia-sys-plots 1.8.5",
   "language": "julia",
   "name": "julia-sys-plots-1.8"
  },
  "language_info": {
   "file_extension": ".jl",
   "mimetype": "application/julia",
   "name": "julia",
   "version": "1.8.5"
  }
 },
 "nbformat": 4,
 "nbformat_minor": 5
}
