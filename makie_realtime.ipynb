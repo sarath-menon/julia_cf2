{
 "cells": [
  {
   "cell_type": "code",
   "execution_count": 1,
   "id": "885fc22a-e3ad-4b24-9b51-656816f4df91",
   "metadata": {},
   "outputs": [
    {
     "name": "stderr",
     "output_type": "stream",
     "text": [
      "\u001b[32m\u001b[1m  Activating\u001b[22m\u001b[39m project at `~/Documents/eth_projects/freertos_sim/test/julia_cf2`\n"
     ]
    }
   ],
   "source": [
    "import Pkg;Pkg.activate(@__DIR__);Pkg.instantiate();"
   ]
  },
  {
   "cell_type": "code",
   "execution_count": 2,
   "id": "a2a62ca6-3065-4ac4-bb04-3b8e6dcf9998",
   "metadata": {},
   "outputs": [],
   "source": [
    "using GLMakie\n",
    "using PyCall\n",
    "GLMakie.activate!(inline=false)"
   ]
  },
  {
   "cell_type": "code",
   "execution_count": 11,
   "id": "7de48cd4-965a-491d-b26b-7706ac4cfde2",
   "metadata": {},
   "outputs": [
    {
     "data": {
      "text/plain": [
       "GLMakie.Screen(...)"
      ]
     },
     "execution_count": 11,
     "metadata": {},
     "output_type": "execute_result"
    }
   ],
   "source": [
    "points = Observable(Point2f[randn(2)])\n",
    "\n",
    "fig, ax = scatter(points)\n",
    "limits!(ax, -4, 4, -4, 4)\n",
    "\n",
    "fps = 60\n",
    "nframes = 1200\n",
    "\n",
    "for i = 1:nframes\n",
    "    new_point = Point2f(randn(2))\n",
    "    points[] = push!(points[], new_point)\n",
    "    sleep(1/fps) # refreshes the display!\n",
    "end\n",
    "display(fig)"
   ]
  },
  {
   "cell_type": "markdown",
   "id": "671f349d",
   "metadata": {},
   "source": [
    "# CHannel demo"
   ]
  },
  {
   "cell_type": "code",
   "execution_count": 3,
   "id": "786b5f3b",
   "metadata": {},
   "outputs": [],
   "source": [
    "function producer(a)\n",
    "    Channel() do ch\n",
    "        put!(ch, \"start\")\n",
    "        for n=1:4\n",
    "            put!(ch, 2n)\n",
    "        end\n",
    "        put!(ch, \"stop\")\n",
    "    end\n",
    "end;"
   ]
  },
  {
   "cell_type": "code",
   "execution_count": 4,
   "id": "2f39b4b2",
   "metadata": {},
   "outputs": [
    {
     "data": {
      "text/plain": [
       "Channel{Any}(0) (1 item available)"
      ]
     },
     "execution_count": 4,
     "metadata": {},
     "output_type": "execute_result"
    }
   ],
   "source": [
    "channel_countdown = producer(2)"
   ]
  },
  {
   "cell_type": "code",
   "execution_count": 5,
   "id": "892b6152",
   "metadata": {},
   "outputs": [
    {
     "name": "stdout",
     "output_type": "stream",
     "text": [
      "countdown start\n",
      "countdown 2\n",
      "countdown 4\n",
      "countdown 6\n",
      "countdown 8\n",
      "countdown stop\n"
     ]
    }
   ],
   "source": [
    "for i in channel_countdown\n",
    "    println(\"countdown $i\")\n",
    "end"
   ]
  },
  {
   "cell_type": "code",
   "execution_count": 6,
   "id": "4b31446d",
   "metadata": {},
   "outputs": [],
   "source": [
    "function producer(c::Channel)\n",
    "\n",
    "    put!(c, \"start\")\n",
    "    for n=1:5\n",
    "        put!(c, 2n)\n",
    "    end\n",
    "    put!(c, \"stop\")\n",
    "end;\n",
    "\n",
    "chnl = Channel(producer);"
   ]
  },
  {
   "cell_type": "code",
   "execution_count": null,
   "id": "011b167a",
   "metadata": {},
   "outputs": [],
   "source": [
    "# put!(chnl, \"selva\")"
   ]
  },
  {
   "cell_type": "code",
   "execution_count": 7,
   "id": "9a47c3b9",
   "metadata": {},
   "outputs": [
    {
     "name": "stdout",
     "output_type": "stream",
     "text": [
      "start\n",
      "2\n",
      "4\n",
      "6\n",
      "8\n"
     ]
    }
   ],
   "source": [
    "for n=1:5\n",
    "    println(take!(chnl))\n",
    "end"
   ]
  },
  {
   "cell_type": "markdown",
   "id": "1b27e129",
   "metadata": {},
   "source": [
    "## new demo"
   ]
  },
  {
   "cell_type": "code",
   "execution_count": 6,
   "id": "8d2ef6e3",
   "metadata": {},
   "outputs": [],
   "source": [
    "# Given Channels c1 and c2,\n",
    "c1 = Channel(32)\n",
    "c2 = Channel(32)\n",
    "\n",
    "# add data to c1\n",
    "for i in 1:3\n",
    "    put!(c1, i)\n",
    "end"
   ]
  },
  {
   "cell_type": "code",
   "execution_count": 8,
   "id": "7861952e",
   "metadata": {},
   "outputs": [
    {
     "data": {
      "text/plain": [
       "foo (generic function with 1 method)"
      ]
     },
     "execution_count": 8,
     "metadata": {},
     "output_type": "execute_result"
    }
   ],
   "source": [
    "# and a function `foo` which reads items from c1, processes the item read\n",
    "# and writes a result to c2,\n",
    "function foo()\n",
    "    for i in 1:3\n",
    "        data = take!(c1)\n",
    "        result = data*2               # process data\n",
    "        put!(c2, result)    # write out result\n",
    "    end\n",
    "end"
   ]
  },
  {
   "cell_type": "markdown",
   "id": "affb4659",
   "metadata": {},
   "source": [
    "## Condition demo"
   ]
  },
  {
   "cell_type": "code",
   "execution_count": 110,
   "id": "3c5bf62c",
   "metadata": {},
   "outputs": [
    {
     "data": {
      "text/plain": [
       "Task (runnable) @0x000000010babb880"
      ]
     },
     "execution_count": 110,
     "metadata": {},
     "output_type": "execute_result"
    }
   ],
   "source": [
    "c = Condition()\n",
    "\n",
    "@async try\n",
    "    wait(c)\n",
    "    println(\"got event\")\n",
    "    \n",
    "catch\n",
    "    println(\"failed\")\n",
    "end"
   ]
  },
  {
   "cell_type": "code",
   "execution_count": 111,
   "id": "d3568cee",
   "metadata": {},
   "outputs": [
    {
     "name": "stdout",
     "output_type": "stream",
     "text": [
      "Notified\n"
     ]
    },
    {
     "data": {
      "text/plain": [
       "Task (done) @0x000000010babbb20"
      ]
     },
     "execution_count": 111,
     "metadata": {},
     "output_type": "execute_result"
    },
    {
     "name": "stdout",
     "output_type": "stream",
     "text": [
      "got event\n"
     ]
    }
   ],
   "source": [
    "\n",
    "@async try\n",
    "    notify(c)\n",
    "    println(\"Notified\")\n",
    "    \n",
    "catch\n",
    "    println(\"failed\")\n",
    "end"
   ]
  },
  {
   "cell_type": "markdown",
   "id": "3322d6a4-b422-4b7c-9f32-5d38502f2c06",
   "metadata": {},
   "source": [
    "## Threads demo"
   ]
  },
  {
   "cell_type": "code",
   "execution_count": 37,
   "id": "47a727f7",
   "metadata": {},
   "outputs": [
    {
     "data": {
      "text/plain": [
       "4"
      ]
     },
     "execution_count": 37,
     "metadata": {},
     "output_type": "execute_result"
    }
   ],
   "source": [
    "Threads.nthreads()"
   ]
  },
  {
   "cell_type": "code",
   "execution_count": 38,
   "id": "1dd683db",
   "metadata": {},
   "outputs": [
    {
     "data": {
      "text/plain": [
       "1"
      ]
     },
     "execution_count": 38,
     "metadata": {},
     "output_type": "execute_result"
    }
   ],
   "source": [
    "Threads.threadid()"
   ]
  },
  {
   "cell_type": "code",
   "execution_count": 36,
   "id": "75992fad-0549-4441-bc4b-de07fe5969d6",
   "metadata": {},
   "outputs": [
    {
     "data": {
      "text/plain": [
       "Task (runnable) @0x000000010b949cf0"
      ]
     },
     "execution_count": 36,
     "metadata": {},
     "output_type": "execute_result"
    },
    {
     "name": "stdout",
     "output_type": "stream",
     "text": [
      "selva\n",
      "selva\n",
      "selva\n",
      "selva\n",
      "selva\n"
     ]
    }
   ],
   "source": [
    "main_task = Threads.@spawn begin\n",
    "    for i in 1:5\n",
    "        println(\"selva\")\n",
    "    end\n",
    "end\n"
   ]
  },
  {
   "cell_type": "code",
   "execution_count": 113,
   "id": "afb0f086-68ce-46d0-87e3-2ac08440863f",
   "metadata": {},
   "outputs": [
    {
     "name": "stdout",
     "output_type": "stream",
     "text": [
      "Thread-id 2, task 1\n",
      "task 1: 1\n",
      "task 1: 2\n",
      "task 1: 3\n",
      "task 1: 4\n",
      "task 1: 5\n",
      "task 1: 6\n",
      "task 1: 7\n",
      "task 1: 8\n",
      "task 1: 9\n",
      "task 1: 10\n",
      "Thread-id 1, task 2\n",
      "task 2: 1\n",
      "task 2: 2\n",
      "task 2: 3\n",
      "task 2: 4\n",
      "task 2: 5\n",
      "task 2: 6\n",
      "task 2: 7\n",
      "task 2: 8\n",
      "task 2: 9\n",
      "task 2: 10\n"
     ]
    },
    {
     "data": {
      "text/plain": [
       "Task (done) @0x000000010badb1f0"
      ]
     },
     "execution_count": 113,
     "metadata": {},
     "output_type": "execute_result"
    }
   ],
   "source": [
    "\n",
    "Threads.@spawn begin \n",
    "        Core.println(\"Thread-id $(Threads.threadid()), task 1\")\n",
    "        for i in 1:10\n",
    "            Core.println(\"task 1: $(i)\")\n",
    "        end\n",
    "\n",
    "end\n",
    "\n",
    "Threads.@spawn begin \n",
    "        Core.println(\"Thread-id $(Threads.threadid()), task 2\")\n",
    "        for i in 1:10\n",
    "            Core.println(\"task 2: $(i)\")\n",
    "        end\n",
    "\n",
    "end\n"
   ]
  },
  {
   "cell_type": "markdown",
   "id": "b9c5be15-da07-47a5-bb27-284590b067c1",
   "metadata": {},
   "source": [
    "# Threadpools"
   ]
  },
  {
   "cell_type": "code",
   "execution_count": 114,
   "id": "2ed81fba-c1f0-4a83-bbbe-c2015ad4f2d6",
   "metadata": {},
   "outputs": [
    {
     "name": "stderr",
     "output_type": "stream",
     "text": [
      "\u001b[36m\u001b[1m[ \u001b[22m\u001b[39m\u001b[36m\u001b[1mInfo: \u001b[22m\u001b[39mPrecompiling ThreadPools [b189fb0b-2eb5-4ed4-bc0c-d34c51242431]\n"
     ]
    }
   ],
   "source": [
    "using ThreadPools"
   ]
  },
  {
   "cell_type": "code",
   "execution_count": null,
   "id": "121e7d95-3b2a-460b-b4b2-a48f43573fa6",
   "metadata": {},
   "outputs": [],
   "source": []
  }
 ],
 "metadata": {
  "kernelspec": {
   "display_name": "Julia-sys-plots 1.8.5",
   "language": "julia",
   "name": "julia-sys-plots-1.8"
  },
  "language_info": {
   "file_extension": ".jl",
   "mimetype": "application/julia",
   "name": "julia",
   "version": "1.8.5"
  }
 },
 "nbformat": 4,
 "nbformat_minor": 5
}
